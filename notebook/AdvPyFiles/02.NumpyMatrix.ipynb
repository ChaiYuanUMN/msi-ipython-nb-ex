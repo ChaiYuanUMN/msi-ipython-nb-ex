{
 "metadata": {
  "name": ""
 },
 "nbformat": 3,
 "nbformat_minor": 0,
 "worksheets": [
  {
   "cells": [
    {
     "cell_type": "markdown",
     "metadata": {},
     "source": [
      "# Multidimensional Arrays in NumPy\n",
      "\n",
      "NumPy arrays are rectangles in as many dimensions as you need."
     ]
    },
    {
     "cell_type": "code",
     "collapsed": false,
     "input": [
      "import numpy as np"
     ],
     "language": "python",
     "metadata": {},
     "outputs": [],
     "prompt_number": 1
    },
    {
     "cell_type": "code",
     "collapsed": false,
     "input": [
      "M = np.arange(2*4*3).reshape([2,4,3])\n",
      "M"
     ],
     "language": "python",
     "metadata": {},
     "outputs": [
      {
       "metadata": {},
       "output_type": "pyout",
       "prompt_number": 2,
       "text": [
        "array([[[ 0,  1,  2],\n",
        "        [ 3,  4,  5],\n",
        "        [ 6,  7,  8],\n",
        "        [ 9, 10, 11]],\n",
        "\n",
        "       [[12, 13, 14],\n",
        "        [15, 16, 17],\n",
        "        [18, 19, 20],\n",
        "        [21, 22, 23]]])"
       ]
      }
     ],
     "prompt_number": 2
    },
    {
     "cell_type": "markdown",
     "metadata": {},
     "source": [
      "``M`` is a 3-dimensional \"data cube\" of size 2x4x3. We can access individual elements by subscripting:"
     ]
    },
    {
     "cell_type": "code",
     "collapsed": false,
     "input": [
      "M[0,2,2]"
     ],
     "language": "python",
     "metadata": {},
     "outputs": [
      {
       "metadata": {},
       "output_type": "pyout",
       "prompt_number": 3,
       "text": [
        "8"
       ]
      }
     ],
     "prompt_number": 3
    },
    {
     "cell_type": "markdown",
     "metadata": {},
     "source": [
      "Arithmetic operators work element-by-element for same-shape arrays.\n",
      "\n",
      "You can also add/multiply/etc a single value that will be applied to every element."
     ]
    },
    {
     "cell_type": "code",
     "collapsed": false,
     "input": [
      "M + M / 2.0"
     ],
     "language": "python",
     "metadata": {},
     "outputs": [
      {
       "metadata": {},
       "output_type": "pyout",
       "prompt_number": 4,
       "text": [
        "array([[[  0. ,   1.5,   3. ],\n",
        "        [  4.5,   6. ,   7.5],\n",
        "        [  9. ,  10.5,  12. ],\n",
        "        [ 13.5,  15. ,  16.5]],\n",
        "\n",
        "       [[ 18. ,  19.5,  21. ],\n",
        "        [ 22.5,  24. ,  25.5],\n",
        "        [ 27. ,  28.5,  30. ],\n",
        "        [ 31.5,  33. ,  34.5]]])"
       ]
      }
     ],
     "prompt_number": 4
    },
    {
     "cell_type": "markdown",
     "metadata": {},
     "source": [
      "## Array slicing\n",
      "\n",
      "The subscript index notation can also be used to retrieve \"slices\" of a larger array instead of single values. Use a colon \":\" character to specify a range or on its own as a placeholder to fetch an entire dimension."
     ]
    },
    {
     "cell_type": "code",
     "collapsed": false,
     "input": [
      "M[1,:,:]"
     ],
     "language": "python",
     "metadata": {},
     "outputs": [
      {
       "metadata": {},
       "output_type": "pyout",
       "prompt_number": 5,
       "text": [
        "array([[12, 13, 14],\n",
        "       [15, 16, 17],\n",
        "       [18, 19, 20],\n",
        "       [21, 22, 23]])"
       ]
      }
     ],
     "prompt_number": 5
    },
    {
     "cell_type": "code",
     "collapsed": false,
     "input": [
      "s = M[1,:,0:2]\n",
      "s"
     ],
     "language": "python",
     "metadata": {},
     "outputs": [
      {
       "metadata": {},
       "output_type": "pyout",
       "prompt_number": 20,
       "text": [
        "array([[12, 13],\n",
        "       [15, 16],\n",
        "       [18, 19],\n",
        "       [21, 22]])"
       ]
      }
     ],
     "prompt_number": 20
    },
    {
     "cell_type": "markdown",
     "metadata": {},
     "source": [
      "Array slices can be used as standalone arrays. But watch out! They are references into your original array, and changing them can change the original."
     ]
    },
    {
     "cell_type": "code",
     "collapsed": false,
     "input": [
      "s * 10"
     ],
     "language": "python",
     "metadata": {},
     "outputs": [
      {
       "metadata": {},
       "output_type": "pyout",
       "prompt_number": 21,
       "text": [
        "array([[120, 130],\n",
        "       [150, 160],\n",
        "       [180, 190],\n",
        "       [210, 220]])"
       ]
      }
     ],
     "prompt_number": 21
    },
    {
     "cell_type": "code",
     "collapsed": false,
     "input": [
      "s[:] = 0\n",
      "s"
     ],
     "language": "python",
     "metadata": {},
     "outputs": [
      {
       "metadata": {},
       "output_type": "pyout",
       "prompt_number": 22,
       "text": [
        "array([[0, 0],\n",
        "       [0, 0],\n",
        "       [0, 0],\n",
        "       [0, 0]])"
       ]
      }
     ],
     "prompt_number": 22
    },
    {
     "cell_type": "code",
     "collapsed": false,
     "input": [
      "M"
     ],
     "language": "python",
     "metadata": {},
     "outputs": [
      {
       "metadata": {},
       "output_type": "pyout",
       "prompt_number": 23,
       "text": [
        "array([[[ 0,  1,  2],\n",
        "        [ 3,  4,  5],\n",
        "        [ 6,  7,  8],\n",
        "        [ 9, 10, 11]],\n",
        "\n",
        "       [[ 0,  0, 14],\n",
        "        [ 0,  0, 17],\n",
        "        [ 0,  0, 20],\n",
        "        [ 0,  0, 23]]])"
       ]
      }
     ],
     "prompt_number": 23
    },
    {
     "cell_type": "markdown",
     "metadata": {},
     "source": [
      "Use the ``.copy()`` method to avoid this behavior:"
     ]
    },
    {
     "cell_type": "code",
     "collapsed": false,
     "input": [
      "S = M[0,:,:].copy()"
     ],
     "language": "python",
     "metadata": {},
     "outputs": [],
     "prompt_number": 25
    },
    {
     "cell_type": "code",
     "collapsed": false,
     "input": [],
     "language": "python",
     "metadata": {},
     "outputs": []
    }
   ],
   "metadata": {}
  }
 ]
}