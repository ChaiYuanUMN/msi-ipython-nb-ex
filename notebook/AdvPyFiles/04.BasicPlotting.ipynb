{
 "metadata": {
  "name": ""
 },
 "nbformat": 3,
 "nbformat_minor": 0,
 "worksheets": [
  {
   "cells": [
    {
     "cell_type": "markdown",
     "metadata": {},
     "source": [
      "# Basic Plotting with Matplotlib and Pylab\n",
      "\n",
      "``Matplotlib`` provides high-quality 2-D (and some 3-D) plotting capabilities\n",
      "\n",
      "* Display in a window or output to PDF,PNG,etc files\n",
      "* Modular, object-oriented API\n",
      "\n",
      "``Pylab`` provides a Matlab-ish interactive interface to Matplotlib\n",
      "\n",
      "* ``%pylab`` magic command loads it from ipython\n",
      "* Default is to pop up plots in a separate window\n",
      "* ``%pylab inline`` will place plots in the page from the notebook\n",
      "* ``from pylab import *`` if you want to use these functions in a script"
     ]
    },
    {
     "cell_type": "code",
     "collapsed": false,
     "input": [
      "%pylab inline"
     ],
     "language": "python",
     "metadata": {},
     "outputs": [
      {
       "output_type": "stream",
       "stream": "stdout",
       "text": [
        "Populating the interactive namespace from numpy and matplotlib\n"
       ]
      }
     ],
     "prompt_number": 1
    },
    {
     "cell_type": "markdown",
     "metadata": {},
     "source": [
      "Make a basic line plot of a function:"
     ]
    },
    {
     "cell_type": "code",
     "collapsed": false,
     "input": [
      "x = np.linspace(0,2*np.pi,100)\n",
      "plot(x, np.sin(x) - np.sqrt(x))"
     ],
     "language": "python",
     "metadata": {},
     "outputs": [
      {
       "metadata": {},
       "output_type": "pyout",
       "prompt_number": 2,
       "text": [
        "[<matplotlib.lines.Line2D at 0x237b810>]"
       ]
      },
      {
       "metadata": {},
       "output_type": "display_data",
       "png": "[encoded data removed]",
       "text": [
        "<matplotlib.figure.Figure at 0x22b0450>"
       ]
      }
     ],
     "prompt_number": 2
    },
    {
     "cell_type": "markdown",
     "metadata": {},
     "source": [
      "In addition to the plot, a ``Line2D`` object is returned. You can use the Matplotlib object-oriented API to modify the line or access the data points.\n",
      "\n",
      "Use the ``random`` module to create an array of Gaussian random numbers, then plot a histogram."
     ]
    },
    {
     "cell_type": "code",
     "collapsed": false,
     "input": [
      "t = np.random.randn(10000)\n",
      "hist(t, 15)"
     ],
     "language": "python",
     "metadata": {},
     "outputs": [
      {
       "metadata": {},
       "output_type": "pyout",
       "prompt_number": 4,
       "text": [
        "(array([    5.,    18.,   102.,   266.,   601.,  1181.,  1767.,  1933.,\n",
        "        1825.,  1214.,   666.,   287.,    97.,    27.,    11.]),\n",
        " array([-3.79434691, -3.28961001, -2.78487311, -2.28013622, -1.77539932,\n",
        "       -1.27066242, -0.76592552, -0.26118863,  0.24354827,  0.74828517,\n",
        "        1.25302207,  1.75775896,  2.26249586,  2.76723276,  3.27196966,\n",
        "        3.77670655]),\n",
        " <a list of 15 Patch objects>)"
       ]
      },
      {
       "metadata": {},
       "output_type": "display_data",
       "png": "[encoded data removed]",
       "text": [
        "<matplotlib.figure.Figure at 0x238c5d0>"
       ]
      }
     ],
     "prompt_number": 4
    },
    {
     "cell_type": "markdown",
     "metadata": {},
     "source": [
      "Besides getting the ``Patch`` objects (one for each rectangle drawn), this function also returns the bin locations and heights as a convenience."
     ]
    },
    {
     "cell_type": "code",
     "collapsed": false,
     "input": [],
     "language": "python",
     "metadata": {},
     "outputs": []
    }
   ],
   "metadata": {}
  }
 ]
}