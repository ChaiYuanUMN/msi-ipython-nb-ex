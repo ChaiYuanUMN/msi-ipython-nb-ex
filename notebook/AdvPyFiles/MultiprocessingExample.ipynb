{
 "metadata": {
  "name": ""
 },
 "nbformat": 3,
 "nbformat_minor": 0,
 "worksheets": [
  {
   "cells": [
    {
     "cell_type": "code",
     "collapsed": false,
     "input": [
      "import multiprocessing\n",
      "import time\n",
      "\n",
      "data = (\n",
      "    ['a', '.2'], ['b', '.4'], ['c', '.6'], ['d', '.8'],\n",
      "    ['e', '.1'], ['f', '.3'], ['g', '.5'], ['h', '.7']\n",
      ")\n",
      "\n",
      "def mp_worker((inputs, the_time)):\n",
      "    print \" Processs %s\\tWaiting %s seconds\" % (inputs, the_time)\n",
      "    time.sleep(float(the_time))\n",
      "    print \" Process %s\\tDONE\" % inputs\n",
      "\n",
      "def mp_handler():\n",
      "    p = multiprocessing.Pool(4)\n",
      "    p.map(mp_worker, data)"
     ],
     "language": "python",
     "metadata": {},
     "outputs": [],
     "prompt_number": 5
    },
    {
     "cell_type": "code",
     "collapsed": false,
     "input": [
      "mp_handler()"
     ],
     "language": "python",
     "metadata": {},
     "outputs": [
      {
       "output_type": "stream",
       "stream": "stdout",
       "text": [
        " Processs c\tWaiting .6 seconds\n",
        " Processs a\tWaiting .2 seconds\n",
        " Processs d\tWaiting .8 seconds\n",
        " Processs b\tWaiting .4 seconds\n",
        " Process c\tDONE Process a\tDONE Process d\tDONE Process b\tDONE\n",
        "\n",
        "\n",
        "\n",
        " Processs h\tWaiting .7 seconds\n",
        " Processs e\tWaiting .1 seconds\n",
        " Processs g\tWaiting .5 seconds\n",
        " Process h\tDONE Process e\tDONE Process g\tDONE\n",
        "\n",
        "\n",
        " Processs f\tWaiting .3 seconds\n",
        " Process f\tDONE\n"
       ]
      }
     ],
     "prompt_number": 6
    },
    {
     "cell_type": "code",
     "collapsed": false,
     "input": [],
     "language": "python",
     "metadata": {},
     "outputs": []
    }
   ],
   "metadata": {}
  }
 ]
}