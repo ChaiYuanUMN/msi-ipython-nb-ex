{
 "cells": [
  {
   "cell_type": "markdown",
   "metadata": {},
   "source": [
    "Parallel Processing in Python\n",
    "====\n",
    "\n",
    "You will almost always start from the question, \"How can I break up this problem into smaller pieces that can run concurrently?\"\n",
    "\n",
    "Once you have an answer to that question, there are a few Python tools that can help implement that answer.\n",
    "\n",
    "Multiprocessing\n",
    "----"
   ]
  },
  {
   "cell_type": "code",
   "execution_count": 1,
   "metadata": {
    "collapsed": false
   },
   "outputs": [],
   "source": [
    "import multiprocessing\n",
    "import time\n",
    "\n",
    "data = (\n",
    "    ['a', '.2'], ['b', '.4'], ['c', '.6'], ['d', '.8'],\n",
    "    ['e', '.1'], ['f', '.3'], ['g', '.5'], ['h', '.7']\n",
    ")\n",
    "\n",
    "def mp_worker(data):\n",
    "    inputs, the_time = data\n",
    "    print(\" Processs %s\\tWaiting %s seconds\" % (inputs, the_time))\n",
    "    time.sleep(float(the_time))\n",
    "    print(\" Process %s\\tDONE\" % inputs)\n",
    "    return inputs + inputs\n",
    "\n",
    "def mp_handler():\n",
    "    p = multiprocessing.Pool(2)\n",
    "    return p.map(mp_worker, data)"
   ]
  },
  {
   "cell_type": "code",
   "execution_count": 2,
   "metadata": {
    "collapsed": false
   },
   "outputs": [
    {
     "name": "stdout",
     "output_type": "stream",
     "text": [
      " Processs b\tWaiting .4 seconds\n",
      " Processs a\tWaiting .2 seconds\n",
      " Process a\tDONE\n",
      " Processs c\tWaiting .6 seconds\n",
      " Process b\tDONE\n",
      " Processs d\tWaiting .8 seconds\n",
      " Process c\tDONE\n",
      " Processs e\tWaiting .1 seconds\n",
      " Process e\tDONE\n",
      " Processs f\tWaiting .3 seconds\n",
      " Process d\tDONE\n",
      " Processs g\tWaiting .5 seconds\n",
      " Process f\tDONE\n",
      " Processs h\tWaiting .7 seconds\n",
      " Process g\tDONE\n",
      " Process h\tDONE\n"
     ]
    },
    {
     "data": {
      "text/plain": [
       "['aa', 'bb', 'cc', 'dd', 'ee', 'ff', 'gg', 'hh']"
      ]
     },
     "execution_count": 2,
     "metadata": {},
     "output_type": "execute_result"
    }
   ],
   "source": [
    "mp_handler()"
   ]
  },
  {
   "cell_type": "code",
   "execution_count": 3,
   "metadata": {
    "collapsed": true
   },
   "outputs": [],
   "source": [
    "import numpy as np\n",
    "\n",
    "def mp_worker(power):\n",
    "    d = np.random.randn(100000000)**power\n",
    "    print(\"Raising random array to the {0}th power\".format(power))\n",
    "    return d.mean()\n",
    "\n",
    "data = [1, 2, 12, 15]"
   ]
  },
  {
   "cell_type": "code",
   "execution_count": 4,
   "metadata": {
    "collapsed": false
   },
   "outputs": [
    {
     "name": "stdout",
     "output_type": "stream",
     "text": [
      "Raising random array to the 2th power\n",
      "Raising random array to the 1th power\n",
      "Raising random array to the 12th power\n",
      "Raising random array to the 15th power\n"
     ]
    },
    {
     "data": {
      "text/plain": [
       "[0.00015697883657137359,\n",
       " 1.000269545919426,\n",
       " 10444.348963926968,\n",
       " 8347.1901402059957]"
      ]
     },
     "execution_count": 4,
     "metadata": {},
     "output_type": "execute_result"
    }
   ],
   "source": [
    "mp_handler()"
   ]
  },
  {
   "cell_type": "markdown",
   "metadata": {},
   "source": [
    "Threading\n",
    "----\n",
    "\n",
    "Threads are lighter-weight since they share the Python interpreter and can sometimes share data. But mind the GIL!"
   ]
  },
  {
   "cell_type": "code",
   "execution_count": 5,
   "metadata": {
    "collapsed": false
   },
   "outputs": [],
   "source": [
    "import threading\n",
    "import queue"
   ]
  },
  {
   "cell_type": "code",
   "execution_count": 6,
   "metadata": {
    "collapsed": false
   },
   "outputs": [],
   "source": [
    "q = queue.Queue()"
   ]
  },
  {
   "cell_type": "code",
   "execution_count": 7,
   "metadata": {
    "collapsed": true
   },
   "outputs": [],
   "source": [
    "q.put('foo')"
   ]
  },
  {
   "cell_type": "code",
   "execution_count": 8,
   "metadata": {
    "collapsed": true
   },
   "outputs": [],
   "source": [
    "q.put(5)"
   ]
  },
  {
   "cell_type": "code",
   "execution_count": 9,
   "metadata": {
    "collapsed": true
   },
   "outputs": [],
   "source": [
    "q.put('even more')"
   ]
  },
  {
   "cell_type": "code",
   "execution_count": 10,
   "metadata": {
    "collapsed": false
   },
   "outputs": [
    {
     "data": {
      "text/plain": [
       "'foo'"
      ]
     },
     "execution_count": 10,
     "metadata": {},
     "output_type": "execute_result"
    }
   ],
   "source": [
    "q.get(block=False)"
   ]
  },
  {
   "cell_type": "code",
   "execution_count": 11,
   "metadata": {
    "collapsed": false
   },
   "outputs": [],
   "source": [
    "def work():\n",
    "    q.put(np.random.randn(1000))"
   ]
  },
  {
   "cell_type": "code",
   "execution_count": 12,
   "metadata": {
    "collapsed": true
   },
   "outputs": [],
   "source": [
    "t = threading.Thread(target=work)"
   ]
  },
  {
   "cell_type": "code",
   "execution_count": 13,
   "metadata": {
    "collapsed": true
   },
   "outputs": [],
   "source": [
    "t.start()"
   ]
  },
  {
   "cell_type": "code",
   "execution_count": 14,
   "metadata": {
    "collapsed": false
   },
   "outputs": [
    {
     "data": {
      "text/plain": [
       "5"
      ]
     },
     "execution_count": 14,
     "metadata": {},
     "output_type": "execute_result"
    }
   ],
   "source": [
    "q.get()"
   ]
  },
  {
   "cell_type": "markdown",
   "metadata": {
    "collapsed": true
   },
   "source": [
    "Dask\n",
    "---\n",
    "\n",
    "Higher level abstractions are available!"
   ]
  },
  {
   "cell_type": "code",
   "execution_count": 15,
   "metadata": {
    "collapsed": false
   },
   "outputs": [],
   "source": [
    "import numpy as np\n",
    "import dask.array as da\n",
    "import memory_profiler"
   ]
  },
  {
   "cell_type": "code",
   "execution_count": 17,
   "metadata": {
    "collapsed": false
   },
   "outputs": [
    {
     "data": {
      "text/plain": [
       "dask.array<da.rand..., shape=(1000, 1000), dtype=float64, chunksize=(100, 100)>"
      ]
     },
     "execution_count": 17,
     "metadata": {},
     "output_type": "execute_result"
    }
   ],
   "source": [
    "Y = da.random.normal(size=(1000, 1000),\n",
    "                     chunks=(100, 100))\n",
    "\n",
    "Y"
   ]
  },
  {
   "cell_type": "code",
   "execution_count": 18,
   "metadata": {
    "collapsed": false
   },
   "outputs": [
    {
     "data": {
      "text/plain": [
       "dask.array<mean_ag..., shape=(1000,), dtype=float64, chunksize=(100,)>"
      ]
     },
     "execution_count": 18,
     "metadata": {},
     "output_type": "execute_result"
    }
   ],
   "source": [
    "mu = Y.mean(axis=0)\n",
    "mu"
   ]
  },
  {
   "cell_type": "markdown",
   "metadata": {},
   "source": [
    "Notice the computation hasn't actually happened yet..."
   ]
  },
  {
   "cell_type": "code",
   "execution_count": 19,
   "metadata": {
    "collapsed": false
   },
   "outputs": [
    {
     "data": {
      "text/plain": [
       "0.00071773141474024626"
      ]
     },
     "execution_count": 19,
     "metadata": {},
     "output_type": "execute_result"
    }
   ],
   "source": [
    "mu[0].compute()"
   ]
  },
  {
   "cell_type": "code",
   "execution_count": 21,
   "metadata": {
    "collapsed": false
   },
   "outputs": [
    {
     "name": "stdout",
     "output_type": "stream",
     "text": [
      "[########################################] | 100% Completed |  0.2s\n"
     ]
    }
   ],
   "source": [
    "from dask.diagnostics import ProgressBar\n",
    "\n",
    "with ProgressBar():\n",
    "    mu = Y.mean().compute()"
   ]
  },
  {
   "cell_type": "code",
   "execution_count": 22,
   "metadata": {
    "collapsed": false
   },
   "outputs": [
    {
     "data": {
      "text/plain": [
       "0.00076207744231838949"
      ]
     },
     "execution_count": 22,
     "metadata": {},
     "output_type": "execute_result"
    }
   ],
   "source": [
    "mu"
   ]
  },
  {
   "cell_type": "code",
   "execution_count": null,
   "metadata": {
    "collapsed": true
   },
   "outputs": [],
   "source": []
  }
 ],
 "metadata": {
  "kernelspec": {
   "display_name": "Python 3",
   "language": "python",
   "name": "python3"
  },
  "language_info": {
   "codemirror_mode": {
    "name": "ipython",
    "version": 3
   },
   "file_extension": ".py",
   "mimetype": "text/x-python",
   "name": "python",
   "nbconvert_exporter": "python",
   "pygments_lexer": "ipython3",
   "version": "3.4.5"
  }
 },
 "nbformat": 4,
 "nbformat_minor": 0
}
