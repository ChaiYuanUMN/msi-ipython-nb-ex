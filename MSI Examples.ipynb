{
 "metadata": {
  "name": "",
  "signature": "sha256:b84df74e7dbc62bc2dd9908c1a1ba3a843bd5d251ddb7180b8d365116b182b2e"
 },
 "nbformat": 3,
 "nbformat_minor": 0,
 "worksheets": [
  {
   "cells": [
    {
     "cell_type": "markdown",
     "metadata": {},
     "source": [
      "Outline\n",
      "=======\n",
      "\n",
      "* Illustrate tunneling in\n",
      "* basic calculations with python\n",
      "* cells - code + docs\n",
      "  * modify and re-run\n",
      "* plotting - use a matplotlib demo\n",
      "  * one of the GIS demos\n",
      "  * show modify and re-run plotting\n",
      "* command-line shell invocation\n",
      "  * run commands\n",
      "  * capture output\n",
      "  * e.g. capture groupquota -a\n",
      "* show off notebook on github\n",
      "* show nbviewer displaying from public github\n",
      "* start worker engines with MPI\n",
      "  * run MPI monitor demo\n",
      "* show configuring IPython profile to submit PBS jobs with qsub"
     ]
    },
    {
     "cell_type": "code",
     "collapsed": false,
     "input": [],
     "language": "python",
     "metadata": {},
     "outputs": []
    }
   ],
   "metadata": {}
  }
 ]
}
